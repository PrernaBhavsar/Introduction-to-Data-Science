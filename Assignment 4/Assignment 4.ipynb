{
 "cells": [
  {
   "cell_type": "markdown",
   "metadata": {},
   "source": [
    "---\n",
    "\n",
    "_You are currently looking at **version 1.1** of this notebook. To download notebooks and datafiles, as well as get help on Jupyter notebooks in the Coursera platform, visit the [Jupyter Notebook FAQ](https://www.coursera.org/learn/python-data-analysis/resources/0dhYG) course resource._\n",
    "\n",
    "---"
   ]
  },
  {
   "cell_type": "code",
   "execution_count": 2,
   "metadata": {
    "collapsed": true
   },
   "outputs": [],
   "source": [
    "import pandas as pd\n",
    "import numpy as np\n",
    "from scipy.stats import ttest_ind"
   ]
  },
  {
   "cell_type": "markdown",
   "metadata": {},
   "source": [
    "# Assignment 4 - Hypothesis Testing\n",
    "This assignment requires more individual learning than previous assignments - you are encouraged to check out the [pandas documentation](http://pandas.pydata.org/pandas-docs/stable/) to find functions or methods you might not have used yet, or ask questions on [Stack Overflow](http://stackoverflow.com/) and tag them as pandas and python related. And of course, the discussion forums are open for interaction with your peers and the course staff.\n",
    "\n",
    "Definitions:\n",
    "* A _quarter_ is a specific three month period, Q1 is January through March, Q2 is April through June, Q3 is July through September, Q4 is October through December.\n",
    "* A _recession_ is defined as starting with two consecutive quarters of GDP decline, and ending with two consecutive quarters of GDP growth.\n",
    "* A _recession bottom_ is the quarter within a recession which had the lowest GDP.\n",
    "* A _university town_ is a city which has a high percentage of university students compared to the total population of the city.\n",
    "\n",
    "**Hypothesis**: University towns have their mean housing prices less effected by recessions. Run a t-test to compare the ratio of the mean price of houses in university towns the quarter before the recession starts compared to the recession bottom. (`price_ratio=quarter_before_recession/recession_bottom`)\n",
    "\n",
    "The following data files are available for this assignment:\n",
    "* From the [Zillow research data site](http://www.zillow.com/research/data/) there is housing data for the United States. In particular the datafile for [all homes at a city level](http://files.zillowstatic.com/research/public/City/City_Zhvi_AllHomes.csv), ```City_Zhvi_AllHomes.csv```, has median home sale prices at a fine grained level.\n",
    "* From the Wikipedia page on college towns is a list of [university towns in the United States](https://en.wikipedia.org/wiki/List_of_college_towns#College_towns_in_the_United_States) which has been copy and pasted into the file ```university_towns.txt```.\n",
    "* From Bureau of Economic Analysis, US Department of Commerce, the [GDP over time](http://www.bea.gov/national/index.htm#gdp) of the United States in current dollars (use the chained value in 2009 dollars), in quarterly intervals, in the file ```gdplev.xls```. For this assignment, only look at GDP data from the first quarter of 2000 onward.\n",
    "\n",
    "Each function in this assignment below is worth 10%, with the exception of ```run_ttest()```, which is worth 50%."
   ]
  },
  {
   "cell_type": "code",
   "execution_count": 3,
   "metadata": {
    "collapsed": true
   },
   "outputs": [],
   "source": [
    "# Use this dictionary to map state names to two letter acronyms\n",
    "states = {'OH': 'Ohio', 'KY': 'Kentucky', 'AS': 'American Samoa', 'NV': 'Nevada', 'WY': 'Wyoming', 'NA': 'National', 'AL': 'Alabama', 'MD': 'Maryland', 'AK': 'Alaska', 'UT': 'Utah', 'OR': 'Oregon', 'MT': 'Montana', 'IL': 'Illinois', 'TN': 'Tennessee', 'DC': 'District of Columbia', 'VT': 'Vermont', 'ID': 'Idaho', 'AR': 'Arkansas', 'ME': 'Maine', 'WA': 'Washington', 'HI': 'Hawaii', 'WI': 'Wisconsin', 'MI': 'Michigan', 'IN': 'Indiana', 'NJ': 'New Jersey', 'AZ': 'Arizona', 'GU': 'Guam', 'MS': 'Mississippi', 'PR': 'Puerto Rico', 'NC': 'North Carolina', 'TX': 'Texas', 'SD': 'South Dakota', 'MP': 'Northern Mariana Islands', 'IA': 'Iowa', 'MO': 'Missouri', 'CT': 'Connecticut', 'WV': 'West Virginia', 'SC': 'South Carolina', 'LA': 'Louisiana', 'KS': 'Kansas', 'NY': 'New York', 'NE': 'Nebraska', 'OK': 'Oklahoma', 'FL': 'Florida', 'CA': 'California', 'CO': 'Colorado', 'PA': 'Pennsylvania', 'DE': 'Delaware', 'NM': 'New Mexico', 'RI': 'Rhode Island', 'MN': 'Minnesota', 'VI': 'Virgin Islands', 'NH': 'New Hampshire', 'MA': 'Massachusetts', 'GA': 'Georgia', 'ND': 'North Dakota', 'VA': 'Virginia'}"
   ]
  },
  {
   "cell_type": "code",
   "execution_count": 4,
   "metadata": {
    "collapsed": true,
    "umich_part_id": "021",
    "umich_partlist_id": "004"
   },
   "outputs": [],
   "source": [
    "def get_list_of_university_towns():\n",
    "    '''Returns a DataFrame of towns and the states they are in from the \n",
    "    university_towns.txt list. The format of the DataFrame should be:\n",
    "    DataFrame( [ [\"Michigan\", \"Ann Arbor\"], [\"Michigan\", \"Yipsilanti\"] ], \n",
    "    columns=[\"State\", \"RegionName\"]  )\n",
    "    \n",
    "    The following cleaning needs to be done:\n",
    "\n",
    "    1. For \"State\", removing characters from \"[\" to the end.\n",
    "    2. For \"RegionName\", when applicable, removing every character from \" (\" to the end.\n",
    "    3. Depending on how you read the data, you may need to remove newline character '\\n'. '''\n",
    "    \n",
    "    univ_df= pd.read_csv(\"university_towns.txt\", sep= \"\\n\", header=None)\n",
    "    state= \"\"\n",
    "    data=[]\n",
    "    for x in univ_df[0]:\n",
    "        \n",
    "        if x.endswith(\"[edit]\"):\n",
    "            state = x[0:-6]\n",
    "            continue\n",
    "        \n",
    "        if \"(\" in x:\n",
    "            i= x.index(\"(\")\n",
    "            region= x[0:i-1]\n",
    "            data.append([state, region])\n",
    "            \n",
    "        else:\n",
    "            region= x\n",
    "            data.append([state, region]) \n",
    "    university_df =pd.DataFrame(data, columns=['State', 'RegionName'])\n",
    "            \n",
    "    return university_df"
   ]
  },
  {
   "cell_type": "code",
   "execution_count": 5,
   "metadata": {
    "collapsed": true,
    "umich_part_id": "022",
    "umich_partlist_id": "004"
   },
   "outputs": [],
   "source": [
    "def get_recession_start():\n",
    "    '''Returns the year and quarter of the recession start time as a \n",
    "    string value in a format such as 2005q3'''\n",
    "    \n",
    "    gdp_df= (pd.read_excel('gdplev.xls', skiprows=220, parse_cols=\"E,G\", header=None,\n",
    "                           names=['Quarter','GDP']))\n",
    "    \n",
    "    \n",
    "    for x in range(2,len(gdp_df)):\n",
    "        \n",
    "        if (gdp_df.iloc[x-2,1] > gdp_df.iloc[x-1,1])and (gdp_df.iloc[x-1,1] > gdp_df.iloc[x,1]):\n",
    "                return gdp_df.iloc[x-1,0]\n",
    "    \n",
    "         "
   ]
  },
  {
   "cell_type": "code",
   "execution_count": 7,
   "metadata": {
    "collapsed": true,
    "umich_part_id": "023",
    "umich_partlist_id": "004"
   },
   "outputs": [],
   "source": [
    "def get_recession_end():\n",
    "    '''Returns the year and quarter of the recession end time as a \n",
    "    string value in a format such as 2005q3'''\n",
    "    \n",
    "    gdp_df= (pd.read_excel('gdplev.xls', skiprows=220, parse_cols=\"E,G\", header=None,\n",
    "                           names=['Quarter','GDP']))\n",
    "    \n",
    "    for x in range(4,len(gdp_df)):\n",
    "        \n",
    "        if ((gdp_df.loc[x-4, 'GDP'] > gdp_df.loc[x-3, 'GDP']) and (gdp_df.loc[x-3, 'GDP'] > gdp_df.loc[x-2, 'GDP'])\n",
    "                and (gdp_df.loc[x-2, 'GDP'] < gdp_df.loc[x-1, 'GDP']) and (gdp_df.loc[x-1, 'GDP'] < gdp_df.loc[x, 'GDP'])):\n",
    "            \n",
    "            return gdp_df.iloc[x,0]\n"
   ]
  },
  {
   "cell_type": "code",
   "execution_count": 11,
   "metadata": {
    "collapsed": true,
    "umich_part_id": "024",
    "umich_partlist_id": "004"
   },
   "outputs": [],
   "source": [
    "def get_recession_bottom():\n",
    "    \n",
    "    gdp_df= (pd.read_excel('gdplev.xls', skiprows=220, parse_cols=\"E,G\", header=None,\n",
    "                           names=['Quarter','GDP']))\n",
    "    \n",
    "    start = get_recession_start()\n",
    "    start_in = gdp_df.index[gdp_df['Quarter'] == start].tolist()[0]\n",
    "    end = get_recession_end()\n",
    "    end_in = gdp_df.index[gdp_df['Quarter'] == end].tolist()[0]\n",
    "    df= gdp_df[start_in: end_in+1]\n",
    "    df=df.reset_index(drop=True)\n",
    "    ans= df['GDP'].idxmin()\n",
    "    \n",
    "    return  df.iloc[ans,0]"
   ]
  },
  {
   "cell_type": "code",
   "execution_count": 65,
   "metadata": {
    "collapsed": true,
    "umich_part_id": "025",
    "umich_partlist_id": "004"
   },
   "outputs": [],
   "source": [
    "def convert_housing_data_to_quarters():\n",
    "    '''Converts the housing data to quarters and returns it as mean \n",
    "    values in a dataframe. This dataframe should be a dataframe with\n",
    "    columns for 2000q1 through 2016q3, and should have a multi-index\n",
    "    in the shape of [\"State\",\"RegionName\"].\n",
    "    \n",
    "    Note: Quarters are defined in the assignment description, they are\n",
    "    not arbitrary three month periods.\n",
    "    \n",
    "    The resulting dataframe should have 67 columns, and 10,730 rows.\n",
    "    '''\n",
    "    state_df= get_list_of_university_towns()\n",
    "    housing_df= pd.read_csv(\"City_Zhvi_AllHomes.csv\")\n",
    "    housing_df['State'] = housing_df['State'].replace(states)\n",
    "    h_df= pd.DataFrame(housing_df[['State','RegionName']])\n",
    "    \n",
    "    for i in range(2000, 2016):\n",
    "        h_df[str(i)+'q1'] = (housing_df[str(i)+'-'+'01']+housing_df[str(i)+'-'+'02']+housing_df[str(i)+'-'+'03'])/3\n",
    "        h_df[str(i)+'q2'] = (housing_df[str(i)+'-'+'04']+housing_df[str(i)+'-'+'05']+housing_df[str(i)+'-'+'06'])/3\n",
    "        h_df[str(i)+'q3'] = (housing_df[str(i)+'-'+'07']+housing_df[str(i)+'-'+'08']+housing_df[str(i)+'-'+'09'])/3\n",
    "        h_df[str(i)+'q4'] = (housing_df[str(i)+'-'+'10']+housing_df[str(i)+'-'+'11']+housing_df[str(i)+'-'+'12'])/3\n",
    "        \n",
    "    h_df['2016q1'] =(housing_df['2016-01']+housing_df['2016-02']+housing_df['2016-03'])/3\n",
    "    h_df['2016q2'] =(housing_df['2016-04']+housing_df['2016-05']+housing_df['2016-06'])/3\n",
    "    h_df['2016q3'] =(housing_df['2016-07']+housing_df['2016-08'])/2\n",
    "    h_df= h_df.set_index(['State','RegionName'])    \n",
    "    return h_df"
   ]
  },
  {
   "cell_type": "code",
   "execution_count": 194,
   "metadata": {
    "umich_part_id": "026",
    "umich_partlist_id": "004"
   },
   "outputs": [],
   "source": [
    "def run_ttest():\n",
    "    '''First creates new data showing the decline or growth of housing prices\n",
    "    between the recession start and the recession bottom. Then runs a ttest\n",
    "    comparing the university town values to the non-university towns values, \n",
    "    return whether the alternative hypothesis (that the two groups are the same)\n",
    "    is true or not as well as the p-value of the confidence. \n",
    "    \n",
    "    Return the tuple (different, p, better) where different=True if the t-test is\n",
    "    True at a p<0.01 (we reject the null hypothesis), or different=False if \n",
    "    otherwise (we cannot reject the null hypothesis). The variable p should\n",
    "    be equal to the exact p value returned from scipy.stats.ttest_ind(). The\n",
    "    value for better should be either \"university town\" or \"non-university town\"\n",
    "    depending on which has a lower mean price ratio (which is equivilent to a\n",
    "    reduced market loss).'''\n",
    "    \n",
    "    from scipy import stats\n",
    "    \n",
    "    state_df= get_list_of_university_towns()\n",
    "    start= get_recession_start()\n",
    "    end= get_recession_end()\n",
    "    bottom = get_recession_bottom()\n",
    "\n",
    "    h_df= convert_housing_data_to_quarters()\n",
    "    start_in = h_df.columns.get_loc(start)\n",
    "    end_in = h_df.columns.get_loc(end)\n",
    "\n",
    "    df= h_df.iloc[:,start_in:end_in+1]\n",
    "    df=df.reset_index()\n",
    "    univ_df=pd.DataFrame(columns = df.columns)\n",
    "    nu_df= pd.DataFrame(columns=df.columns)\n",
    "    \n",
    "    for ind,x  in df['RegionName'].iteritems():\n",
    "        ins= df.index[x==state_df['RegionName']].tolist()\n",
    "        if ins ==[]:\n",
    "            nu_df= nu_df.append(df.iloc[ind], ignore_index=True)\n",
    "            continue\n",
    "            \n",
    "        for i in ins:\n",
    "            univ_df= univ_df.append(df.iloc[i], ignore_index=True)\n",
    "    \n",
    "    univ_df['Price Ratio']= univ_df[bottom]-univ_df[start]\n",
    "    nu_df['Price Ratio']= nu_df[bottom]- nu_df[start]\n",
    "    \n",
    "    s,p = ttest_ind(univ_df['Price Ratio'], nu_df['Price Ratio'], nan_policy = 'omit')\n",
    "    \n",
    "    if p<0.01 : different = True\n",
    "    else: different= False\n",
    "    \n",
    "    better = \"non-university town\" if univ_df[\"Price Ratio\"].mean()< nu_df[\"Price Ratio\"].mean() else \"university town\" \n",
    "    return (different,p,better)"
   ]
  }
 ],
 "metadata": {
  "coursera": {
   "course_slug": "python-data-analysis",
   "graded_item_id": "Il9Fx",
   "launcher_item_id": "TeDW0",
   "part_id": "WGlun"
  },
  "kernelspec": {
   "display_name": "Python 3",
   "language": "python",
   "name": "python3"
  },
  "language_info": {
   "codemirror_mode": {
    "name": "ipython",
    "version": 3
   },
   "file_extension": ".py",
   "mimetype": "text/x-python",
   "name": "python",
   "nbconvert_exporter": "python",
   "pygments_lexer": "ipython3",
   "version": "3.6.2"
  },
  "umich": {
   "id": "Assignment 4",
   "version": "1.1"
  }
 },
 "nbformat": 4,
 "nbformat_minor": 1
}
